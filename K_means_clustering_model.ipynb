{
  "nbformat": 4,
  "nbformat_minor": 0,
  "metadata": {
    "colab": {
      "name": "K means clustering model",
      "provenance": []
    },
    "kernelspec": {
      "name": "python3",
      "display_name": "Python 3"
    },
    "language_info": {
      "name": "python"
    }
  },
  "cells": [
    {
      "cell_type": "code",
      "metadata": {
        "id": "WnQItzO4kcYe",
        "colab": {
          "base_uri": "https://localhost:8080/",
          "height": 256
        },
        "outputId": "e456fc5b-7e06-4334-eccc-9e041c3e01d7"
      },
      "source": [
        "dataset = pd.read_csv('Mall_Customers.csv')\n",
        "dataset\n",
        "dataset.size\n",
        "\n",
        "#identify patterns\n",
        "#create dependant variable\n",
        "#Takes finate number of values\n",
        "#each of the values will be a class of this dependant variable created\n",
        "#Building dependant variable in a way that of the values of this future dependant variable\n",
        "#we are creating are actually the classes of this deependant varibale \n"
      ],
      "execution_count": null,
      "outputs": [
        {
          "output_type": "error",
          "ename": "NameError",
          "evalue": "ignored",
          "traceback": [
            "\u001b[0;31m---------------------------------------------------------------------------\u001b[0m",
            "\u001b[0;31mNameError\u001b[0m                                 Traceback (most recent call last)",
            "\u001b[0;32m<ipython-input-2-4b37dcf9a94f>\u001b[0m in \u001b[0;36m<module>\u001b[0;34m()\u001b[0m\n\u001b[0;32m----> 1\u001b[0;31m \u001b[0mdataset\u001b[0m \u001b[0;34m=\u001b[0m \u001b[0mpd\u001b[0m\u001b[0;34m.\u001b[0m\u001b[0mread_csv\u001b[0m\u001b[0;34m(\u001b[0m\u001b[0;34m'Mall_Customers.csv'\u001b[0m\u001b[0;34m)\u001b[0m\u001b[0;34m\u001b[0m\u001b[0;34m\u001b[0m\u001b[0m\n\u001b[0m\u001b[1;32m      2\u001b[0m \u001b[0mdataset\u001b[0m\u001b[0;34m\u001b[0m\u001b[0;34m\u001b[0m\u001b[0m\n\u001b[1;32m      3\u001b[0m \u001b[0mdataset\u001b[0m\u001b[0;34m.\u001b[0m\u001b[0msize\u001b[0m\u001b[0;34m\u001b[0m\u001b[0;34m\u001b[0m\u001b[0m\n\u001b[1;32m      4\u001b[0m \u001b[0;34m\u001b[0m\u001b[0m\n\u001b[1;32m      5\u001b[0m \u001b[0;31m#identify patterns\u001b[0m\u001b[0;34m\u001b[0m\u001b[0;34m\u001b[0m\u001b[0;34m\u001b[0m\u001b[0m\n",
            "\u001b[0;31mNameError\u001b[0m: name 'pd' is not defined"
          ]
        }
      ]
    },
    {
      "cell_type": "code",
      "metadata": {
        "id": "v2br4rJrogmx"
      },
      "source": [
        "#IMPORTING THE LIBRARIES\n",
        "import numpy as np\n",
        "import matplotlib.pyplot as plt\n",
        "import pandas as pd"
      ],
      "execution_count": null,
      "outputs": []
    },
    {
      "cell_type": "code",
      "metadata": {
        "id": "GG3LLAs3oqRA"
      },
      "source": [
        "#IMPORTING THE DATASET\n",
        "dataset = pd.read_csv('Mall_Customers.csv')\n",
        "X = dataset.iloc[:, [3, 4]].values #Select column index 3 and 4\n",
        "#Excludes column where countries are listed\n",
        "#It has no impact on whatever independant variable we will create \n",
        "#Goal is to Identifies clusters and creates new dependant variable where the values will be clusters \n"
      ],
      "execution_count": null,
      "outputs": []
    },
    {
      "cell_type": "code",
      "metadata": {
        "colab": {
          "base_uri": "https://localhost:8080/",
          "height": 295
        },
        "id": "VM0F5yuKsfLP",
        "outputId": "e6e5e212-63d5-4519-e4fc-97cd784cc675"
      },
      "source": [
        "#USING ELBOW METHOD TO FIND BEST NO. OF CLUSTERS\n",
        "#optimum change in WCSS is no longer significant\n",
        "#Scikit learn library already runs this \n",
        "\n",
        "from sklearn.cluster import KMeans\n",
        "#for loop to run clusters 1-10 to see what is best\n",
        "#Looking for best within cluster sum of squares\n",
        "WCSS = [] #make empty list for wcss val\n",
        "for i in range(1, 11): \n",
        "  #want to include 10 but go up to 11\n",
        "  kmeans = KMeans(n_clusters = i, init = 'k-means++', random_state = 42 )\n",
        "  #avoids random initialisation trap with ++\n",
        "  #Then train K means with i number of clusters\n",
        "  kmeans.fit(X) #fit X data into kmeans, only need data of the features no labelling \n",
        "  WCSS.append(kmeans.inertia_) #append new value into this list, call attribute of kmeans object\n",
        "  #get WCSS value\n",
        "\n",
        "plt.plot(range(1, 11), WCSS)\n",
        "plt.title('Findning No. of clusters via elbow graph')\n",
        "plt.xlabel('No. of clusters')\n",
        "plt.ylabel('WCSS')\n",
        "plt.show()\n",
        "\n",
        "#WCSS decreases its descent at 5 hence use 5 clusters\n",
        "#Optimal number is 5 "
      ],
      "execution_count": null,
      "outputs": [
        {
          "output_type": "display_data",
          "data": {
            "image/png": "[encoded data removed]",
            "text/plain": [
              "<Figure size 432x288 with 1 Axes>"
            ]
          },
          "metadata": {
            "tags": [],
            "needs_background": "light"
          }
        }
      ]
    },
    {
      "cell_type": "code",
      "metadata": {
        "colab": {
          "base_uri": "https://localhost:8080/"
        },
        "id": "eirN4gZQyXeD",
        "outputId": "0ac1f852-c3f5-419f-f076-3a0e633ffd1b"
      },
      "source": [
        "#TRAINING THE KMEANS MODEL ON DATASET USING OPTIMAL NUMBER OF CLUSTERS\n",
        "\n",
        "kmeans = KMeans(n_clusters = 5, init = 'k-means++', random_state = 42 )\n",
        "ypredict_kmeans = kmeans.fit_predict(X)\n",
        "#build dependant variable where the values are the clusters\n",
        "print(ypredict_kmeans)\n",
        "#Which cluster each customer belongs to listed below"
      ],
      "execution_count": null,
      "outputs": [
        {
          "output_type": "stream",
          "text": [
            "[3 0 3 0 3 0 3 0 3 0 3 0 3 0 3 0 3 0 3 0 3 0 3 0 3 0 3 0 3 0 3 0 3 0 3 0 3\n",
            " 0 3 0 3 0 3 1 3 0 1 1 1 1 1 1 1 1 1 1 1 1 1 1 1 1 1 1 1 1 1 1 1 1 1 1 1 1\n",
            " 1 1 1 1 1 1 1 1 1 1 1 1 1 1 1 1 1 1 1 1 1 1 1 1 1 1 1 1 1 1 1 1 1 1 1 1 1\n",
            " 1 1 1 1 1 1 1 1 1 1 1 1 2 4 2 1 2 4 2 4 2 1 2 4 2 4 2 4 2 4 2 1 2 4 2 4 2\n",
            " 4 2 4 2 4 2 4 2 4 2 4 2 4 2 4 2 4 2 4 2 4 2 4 2 4 2 4 2 4 2 4 2 4 2 4 2 4\n",
            " 2 4 2 4 2 4 2 4 2 4 2 4 2 4 2]\n"
          ],
          "name": "stdout"
        }
      ]
    },
    {
      "cell_type": "code",
      "metadata": {
        "colab": {
          "base_uri": "https://localhost:8080/",
          "height": 295
        },
        "id": "99pKUdzT1GIj",
        "outputId": "0409a5ec-4213-422c-bc1e-207304422a96"
      },
      "source": [
        "#VISIALISE THE CLUSTERS ON A GRAPH AND THEIR CENTRIODS\n",
        "plt.scatter(\n",
        "    X[ypredict_kmeans == 0,0], # Cluster 0, index 0 of X\n",
        "    X[ypredict_kmeans == 0,1], # Cluster 0, index 1 of X\n",
        "    s = 100, c = 'red', label = 'cluster 1') \n",
        "\n",
        "plt.scatter(\n",
        "    X[ypredict_kmeans == 1,0], # Cluster 1, index 0 of X\n",
        "    X[ypredict_kmeans == 1,1], # Cluster 1, index 1 of X\n",
        "    s = 100, c = 'blue', label = 'cluster 2') \n",
        "\n",
        "plt.scatter(\n",
        "    X[ypredict_kmeans == 2,0], # Cluster 2, index 0 of X\n",
        "    X[ypredict_kmeans == 2,1], # Cluster 2, index 1 of X\n",
        "    s = 100, c = 'green', label = 'cluster 3') \n",
        "\n",
        "plt.scatter(\n",
        "    X[ypredict_kmeans == 3,0], # Cluster 3, index 0 of X\n",
        "    X[ypredict_kmeans == 3,1], # Cluster 3, index 1 of X\n",
        "    s = 100, c = 'yellow', label = 'cluster 4') \n",
        "\n",
        "plt.scatter(\n",
        "    X[ypredict_kmeans == 4,0], # Cluster 4, index 0 of X\n",
        "    X[ypredict_kmeans == 4,1], # Cluster 4, index 1 of X\n",
        "    s = 100, c = 'magenta', label = 'cluster 5') \n",
        "\n",
        "#plotting the centriods\n",
        "plt.scatter(kmeans.cluster_centers_[:, 0], kmeans.cluster_centers_[:, 1], s = 300, c = 'orange', label = 'centriods')\n",
        "#Take all rows but only X columns so 0 and 1\n",
        "\n",
        "plt.title('Clusters of customers')\n",
        "plt.xlabel('annual income')\n",
        "plt.ylabel('spending score')\n",
        "plt.show()"
      ],
      "execution_count": null,
      "outputs": [
        {
          "output_type": "display_data",
          "data": {
            "image/png": "[encoded data removed]",
            "text/plain": [
              "<Figure size 432x288 with 1 Axes>"
            ]
          },
          "metadata": {
            "tags": [],
            "needs_background": "light"
          }
        }
      ]
    },
    {
      "cell_type": "code",
      "metadata": {
        "id": "tg5xxiPCCGiD"
      },
      "source": [
        "\n",
        "\n"
      ],
      "execution_count": null,
      "outputs": []
    }
  ]
}