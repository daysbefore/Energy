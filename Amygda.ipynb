{
  "nbformat": 4,
  "nbformat_minor": 0,
  "metadata": {
    "colab": {
      "name": "Amygda",
      "provenance": []
    },
    "kernelspec": {
      "name": "python3",
      "display_name": "Python 3"
    },
    "language_info": {
      "name": "python"
    }
  },
  "cells": [
    {
      "cell_type": "code",
      "metadata": {
        "id": "7-Fab7wGFeBk"
      },
      "source": [
        "# Importing required libraries.\n",
        "import pandas as pd\n",
        "import numpy as np\n",
        "import seaborn as sns #visualisation\n",
        "import matplotlib.pyplot as plt #visualisation\n",
        "%matplotlib inline \n",
        "sns.set(color_codes=True)\n",
        "\n"
      ],
      "execution_count": null,
      "outputs": []
    },
    {
      "cell_type": "code",
      "metadata": {
        "colab": {
          "base_uri": "https://localhost:8080/",
          "height": 200
        },
        "id": "PX8bQEI2GAmM",
        "outputId": "958da9c4-808c-4172-ea3a-e82ad93fde5d"
      },
      "source": [
        "#Load dataset and check top and bottom 5 rows\n",
        "\n",
        "dataset = pd.read_csv('Country-data.csv')\n",
        "dataset.head(5)"
      ],
      "execution_count": null,
      "outputs": [
        {
          "output_type": "execute_result",
          "data": {
            "text/html": [
              "<div>\n",
              "<style scoped>\n",
              "    .dataframe tbody tr th:only-of-type {\n",
              "        vertical-align: middle;\n",
              "    }\n",
              "\n",
              "    .dataframe tbody tr th {\n",
              "        vertical-align: top;\n",
              "    }\n",
              "\n",
              "    .dataframe thead th {\n",
              "        text-align: right;\n",
              "    }\n",
              "</style>\n",
              "<table border=\"1\" class=\"dataframe\">\n",
              "  <thead>\n",
              "    <tr style=\"text-align: right;\">\n",
              "      <th></th>\n",
              "      <th>country</th>\n",
              "      <th>child_mort</th>\n",
              "      <th>exports</th>\n",
              "      <th>health</th>\n",
              "      <th>imports</th>\n",
              "      <th>income</th>\n",
              "      <th>inflation</th>\n",
              "      <th>life_expec</th>\n",
              "      <th>total_fer</th>\n",
              "      <th>gdpp</th>\n",
              "    </tr>\n",
              "  </thead>\n",
              "  <tbody>\n",
              "    <tr>\n",
              "      <th>0</th>\n",
              "      <td>Afghanistan</td>\n",
              "      <td>90.2</td>\n",
              "      <td>10.0</td>\n",
              "      <td>7.58</td>\n",
              "      <td>44.9</td>\n",
              "      <td>1610</td>\n",
              "      <td>9.44</td>\n",
              "      <td>56.2</td>\n",
              "      <td>5.82</td>\n",
              "      <td>553</td>\n",
              "    </tr>\n",
              "    <tr>\n",
              "      <th>1</th>\n",
              "      <td>Albania</td>\n",
              "      <td>16.6</td>\n",
              "      <td>28.0</td>\n",
              "      <td>6.55</td>\n",
              "      <td>48.6</td>\n",
              "      <td>9930</td>\n",
              "      <td>4.49</td>\n",
              "      <td>76.3</td>\n",
              "      <td>1.65</td>\n",
              "      <td>4090</td>\n",
              "    </tr>\n",
              "    <tr>\n",
              "      <th>2</th>\n",
              "      <td>Algeria</td>\n",
              "      <td>27.3</td>\n",
              "      <td>38.4</td>\n",
              "      <td>4.17</td>\n",
              "      <td>31.4</td>\n",
              "      <td>12900</td>\n",
              "      <td>16.10</td>\n",
              "      <td>76.5</td>\n",
              "      <td>2.89</td>\n",
              "      <td>4460</td>\n",
              "    </tr>\n",
              "    <tr>\n",
              "      <th>3</th>\n",
              "      <td>Angola</td>\n",
              "      <td>119.0</td>\n",
              "      <td>62.3</td>\n",
              "      <td>2.85</td>\n",
              "      <td>42.9</td>\n",
              "      <td>5900</td>\n",
              "      <td>22.40</td>\n",
              "      <td>60.1</td>\n",
              "      <td>6.16</td>\n",
              "      <td>3530</td>\n",
              "    </tr>\n",
              "    <tr>\n",
              "      <th>4</th>\n",
              "      <td>Antigua and Barbuda</td>\n",
              "      <td>10.3</td>\n",
              "      <td>45.5</td>\n",
              "      <td>6.03</td>\n",
              "      <td>58.9</td>\n",
              "      <td>19100</td>\n",
              "      <td>1.44</td>\n",
              "      <td>76.8</td>\n",
              "      <td>2.13</td>\n",
              "      <td>12200</td>\n",
              "    </tr>\n",
              "  </tbody>\n",
              "</table>\n",
              "</div>"
            ],
            "text/plain": [
              "               country  child_mort  exports  ...  life_expec  total_fer   gdpp\n",
              "0          Afghanistan        90.2     10.0  ...        56.2       5.82    553\n",
              "1              Albania        16.6     28.0  ...        76.3       1.65   4090\n",
              "2              Algeria        27.3     38.4  ...        76.5       2.89   4460\n",
              "3               Angola       119.0     62.3  ...        60.1       6.16   3530\n",
              "4  Antigua and Barbuda        10.3     45.5  ...        76.8       2.13  12200\n",
              "\n",
              "[5 rows x 10 columns]"
            ]
          },
          "metadata": {
            "tags": []
          },
          "execution_count": 2
        }
      ]
    },
    {
      "cell_type": "code",
      "metadata": {
        "colab": {
          "base_uri": "https://localhost:8080/",
          "height": 200
        },
        "id": "2envDqCVGxYu",
        "outputId": "45d9dcbf-3b63-4fcb-b93c-d96c589f6503"
      },
      "source": [
        "dataset.tail(5)"
      ],
      "execution_count": null,
      "outputs": [
        {
          "output_type": "execute_result",
          "data": {
            "text/html": [
              "<div>\n",
              "<style scoped>\n",
              "    .dataframe tbody tr th:only-of-type {\n",
              "        vertical-align: middle;\n",
              "    }\n",
              "\n",
              "    .dataframe tbody tr th {\n",
              "        vertical-align: top;\n",
              "    }\n",
              "\n",
              "    .dataframe thead th {\n",
              "        text-align: right;\n",
              "    }\n",
              "</style>\n",
              "<table border=\"1\" class=\"dataframe\">\n",
              "  <thead>\n",
              "    <tr style=\"text-align: right;\">\n",
              "      <th></th>\n",
              "      <th>country</th>\n",
              "      <th>child_mort</th>\n",
              "      <th>exports</th>\n",
              "      <th>health</th>\n",
              "      <th>imports</th>\n",
              "      <th>income</th>\n",
              "      <th>inflation</th>\n",
              "      <th>life_expec</th>\n",
              "      <th>total_fer</th>\n",
              "      <th>gdpp</th>\n",
              "    </tr>\n",
              "  </thead>\n",
              "  <tbody>\n",
              "    <tr>\n",
              "      <th>162</th>\n",
              "      <td>Vanuatu</td>\n",
              "      <td>29.2</td>\n",
              "      <td>46.6</td>\n",
              "      <td>5.25</td>\n",
              "      <td>52.7</td>\n",
              "      <td>2950</td>\n",
              "      <td>2.62</td>\n",
              "      <td>63.0</td>\n",
              "      <td>3.50</td>\n",
              "      <td>2970</td>\n",
              "    </tr>\n",
              "    <tr>\n",
              "      <th>163</th>\n",
              "      <td>Venezuela</td>\n",
              "      <td>17.1</td>\n",
              "      <td>28.5</td>\n",
              "      <td>4.91</td>\n",
              "      <td>17.6</td>\n",
              "      <td>16500</td>\n",
              "      <td>45.90</td>\n",
              "      <td>75.4</td>\n",
              "      <td>2.47</td>\n",
              "      <td>13500</td>\n",
              "    </tr>\n",
              "    <tr>\n",
              "      <th>164</th>\n",
              "      <td>Vietnam</td>\n",
              "      <td>23.3</td>\n",
              "      <td>72.0</td>\n",
              "      <td>6.84</td>\n",
              "      <td>80.2</td>\n",
              "      <td>4490</td>\n",
              "      <td>12.10</td>\n",
              "      <td>73.1</td>\n",
              "      <td>1.95</td>\n",
              "      <td>1310</td>\n",
              "    </tr>\n",
              "    <tr>\n",
              "      <th>165</th>\n",
              "      <td>Yemen</td>\n",
              "      <td>56.3</td>\n",
              "      <td>30.0</td>\n",
              "      <td>5.18</td>\n",
              "      <td>34.4</td>\n",
              "      <td>4480</td>\n",
              "      <td>23.60</td>\n",
              "      <td>67.5</td>\n",
              "      <td>4.67</td>\n",
              "      <td>1310</td>\n",
              "    </tr>\n",
              "    <tr>\n",
              "      <th>166</th>\n",
              "      <td>Zambia</td>\n",
              "      <td>83.1</td>\n",
              "      <td>37.0</td>\n",
              "      <td>5.89</td>\n",
              "      <td>30.9</td>\n",
              "      <td>3280</td>\n",
              "      <td>14.00</td>\n",
              "      <td>52.0</td>\n",
              "      <td>5.40</td>\n",
              "      <td>1460</td>\n",
              "    </tr>\n",
              "  </tbody>\n",
              "</table>\n",
              "</div>"
            ],
            "text/plain": [
              "       country  child_mort  exports  ...  life_expec  total_fer   gdpp\n",
              "162    Vanuatu        29.2     46.6  ...        63.0       3.50   2970\n",
              "163  Venezuela        17.1     28.5  ...        75.4       2.47  13500\n",
              "164    Vietnam        23.3     72.0  ...        73.1       1.95   1310\n",
              "165      Yemen        56.3     30.0  ...        67.5       4.67   1310\n",
              "166     Zambia        83.1     37.0  ...        52.0       5.40   1460\n",
              "\n",
              "[5 rows x 10 columns]"
            ]
          },
          "metadata": {
            "tags": []
          },
          "execution_count": 3
        }
      ]
    },
    {
      "cell_type": "code",
      "metadata": {
        "colab": {
          "base_uri": "https://localhost:8080/"
        },
        "id": "KZrZKKvTG2S6",
        "outputId": "f07968d2-a30c-4ae8-8125-5aed449d92e4"
      },
      "source": [
        "#Check the different types of data present\n",
        "#Data is all numerical, no vector binary conversion needed\n",
        "#Makes it simple to make a model\n",
        "dataset.dtypes"
      ],
      "execution_count": null,
      "outputs": [
        {
          "output_type": "execute_result",
          "data": {
            "text/plain": [
              "country        object\n",
              "child_mort    float64\n",
              "exports       float64\n",
              "health        float64\n",
              "imports       float64\n",
              "income          int64\n",
              "inflation     float64\n",
              "life_expec    float64\n",
              "total_fer     float64\n",
              "gdpp            int64\n",
              "dtype: object"
            ]
          },
          "metadata": {
            "tags": []
          },
          "execution_count": 4
        }
      ]
    },
    {
      "cell_type": "code",
      "metadata": {
        "id": "j3NBg3zNHn0d"
      },
      "source": [
        "#Replaces any missing value with mean\n",
        "#From scanning the data no missing data found however best to replace with mean just in case\n",
        "dataset['child_mort'].fillna(value=dataset['child_mort'].mean(), inplace = True)\n",
        "dataset['exports'].fillna(value=dataset['exports'].mean(), inplace = True)\n",
        "dataset['health'].fillna(value=dataset['health'].mean(), inplace = True)\n",
        "dataset['imports'].fillna(value=dataset['imports'].mean(), inplace = True)\n",
        "dataset['income'].fillna(value=dataset['income'].mean(), inplace = True)\n",
        "dataset['inflation'].fillna(value=dataset['inflation'].mean(), inplace = True)\n",
        "dataset['life_expec'].fillna(value=dataset['life_expec'].mean(), inplace = True)\n",
        "dataset['total_fer'].fillna(value=dataset['total_fer'].mean(), inplace = True)"
      ],
      "execution_count": null,
      "outputs": []
    },
    {
      "cell_type": "code",
      "metadata": {
        "colab": {
          "base_uri": "https://localhost:8080/",
          "height": 301
        },
        "id": "vKldmf_KclJX",
        "outputId": "3141a58a-1eaf-431e-8d23-aaaf5f839e8d"
      },
      "source": [
        "#Detecting outliers\n",
        "#Outliers cannot be removed as whole row would have to remove\n",
        "#Replacing with mean values would affect the clustering but would remove skewness\n",
        "#K-means not as affected by outliers, not significant if left in\n",
        "#Countries naturally have vast differences, removing 'outliers' would make results untrue\n",
        "#Significant wealth gap in countries\n",
        "sns.boxplot(x = dataset['child_mort'])"
      ],
      "execution_count": null,
      "outputs": [
        {
          "output_type": "execute_result",
          "data": {
            "text/plain": [
              "<matplotlib.axes._subplots.AxesSubplot at 0x7f8de15261d0>"
            ]
          },
          "metadata": {
            "tags": []
          },
          "execution_count": 6
        },
        {
          "output_type": "display_data",
          "data": {
            "image/png": "[encoded data removed]",
            "text/plain": [
              "<Figure size 432x288 with 1 Axes>"
            ]
          },
          "metadata": {
            "tags": [],
            "needs_background": "light"
          }
        }
      ]
    },
    {
      "cell_type": "code",
      "metadata": {
        "colab": {
          "base_uri": "https://localhost:8080/",
          "height": 301
        },
        "id": "Po-FHAhpdGM7",
        "outputId": "2d53600a-c515-40d1-b600-ba2e9ed0154f"
      },
      "source": [
        "sns.boxplot(x = dataset['exports'])"
      ],
      "execution_count": null,
      "outputs": [
        {
          "output_type": "execute_result",
          "data": {
            "text/plain": [
              "<matplotlib.axes._subplots.AxesSubplot at 0x7f8de0cad690>"
            ]
          },
          "metadata": {
            "tags": []
          },
          "execution_count": 7
        },
        {
          "output_type": "display_data",
          "data": {
            "image/png": "[encoded data removed]",
            "text/plain": [
              "<Figure size 432x288 with 1 Axes>"
            ]
          },
          "metadata": {
            "tags": [],
            "needs_background": "light"
          }
        }
      ]
    },
    {
      "cell_type": "code",
      "metadata": {
        "colab": {
          "base_uri": "https://localhost:8080/",
          "height": 301
        },
        "id": "uQZGvTFTdJi7",
        "outputId": "35107d24-5624-45ba-a401-3bd24801c0c5"
      },
      "source": [
        "sns.boxplot(x = dataset['health'])"
      ],
      "execution_count": null,
      "outputs": [
        {
          "output_type": "execute_result",
          "data": {
            "text/plain": [
              "<matplotlib.axes._subplots.AxesSubplot at 0x7f8de0846950>"
            ]
          },
          "metadata": {
            "tags": []
          },
          "execution_count": 8
        },
        {
          "output_type": "display_data",
          "data": {
            "image/png": "[encoded data removed]",
            "text/plain": [
              "<Figure size 432x288 with 1 Axes>"
            ]
          },
          "metadata": {
            "tags": [],
            "needs_background": "light"
          }
        }
      ]
    },
    {
      "cell_type": "code",
      "metadata": {
        "colab": {
          "base_uri": "https://localhost:8080/",
          "height": 301
        },
        "id": "WEe3pbCgdLN5",
        "outputId": "93718a93-ef0e-444d-c758-1452b0a672ab"
      },
      "source": [
        "sns.boxplot(x = dataset['imports'])"
      ],
      "execution_count": null,
      "outputs": [
        {
          "output_type": "execute_result",
          "data": {
            "text/plain": [
              "<matplotlib.axes._subplots.AxesSubplot at 0x7f8de07793d0>"
            ]
          },
          "metadata": {
            "tags": []
          },
          "execution_count": 9
        },
        {
          "output_type": "display_data",
          "data": {
            "image/png": "[encoded data removed]",
            "text/plain": [
              "<Figure size 432x288 with 1 Axes>"
            ]
          },
          "metadata": {
            "tags": [],
            "needs_background": "light"
          }
        }
      ]
    },
    {
      "cell_type": "code",
      "metadata": {
        "colab": {
          "base_uri": "https://localhost:8080/",
          "height": 301
        },
        "id": "HxyEmUjbdLd2",
        "outputId": "65e736a1-44ff-430d-ac85-a2f8c8a49800"
      },
      "source": [
        "sns.boxplot(x = dataset['income'])"
      ],
      "execution_count": null,
      "outputs": [
        {
          "output_type": "execute_result",
          "data": {
            "text/plain": [
              "<matplotlib.axes._subplots.AxesSubplot at 0x7f8de06d8210>"
            ]
          },
          "metadata": {
            "tags": []
          },
          "execution_count": 10
        },
        {
          "output_type": "display_data",
          "data": {
            "image/png": "[encoded data removed]",
            "text/plain": [
              "<Figure size 432x288 with 1 Axes>"
            ]
          },
          "metadata": {
            "tags": [],
            "needs_background": "light"
          }
        }
      ]
    },
    {
      "cell_type": "code",
      "metadata": {
        "colab": {
          "base_uri": "https://localhost:8080/",
          "height": 301
        },
        "id": "5092mJTtdMCt",
        "outputId": "bbdf0e79-ff3b-4cd2-f06c-beaeb71bc1be"
      },
      "source": [
        "sns.boxplot(x = dataset['inflation'])"
      ],
      "execution_count": null,
      "outputs": [
        {
          "output_type": "execute_result",
          "data": {
            "text/plain": [
              "<matplotlib.axes._subplots.AxesSubplot at 0x7f8de06bf090>"
            ]
          },
          "metadata": {
            "tags": []
          },
          "execution_count": 11
        },
        {
          "output_type": "display_data",
          "data": {
            "image/png": "[encoded data removed]",
            "text/plain": [
              "<Figure size 432x288 with 1 Axes>"
            ]
          },
          "metadata": {
            "tags": [],
            "needs_background": "light"
          }
        }
      ]
    },
    {
      "cell_type": "code",
      "metadata": {
        "colab": {
          "base_uri": "https://localhost:8080/",
          "height": 301
        },
        "id": "einb41HMdMR9",
        "outputId": "17bfd153-0002-430c-fabc-366bf9586e74"
      },
      "source": [
        "sns.boxplot(x = dataset['life_expec'])"
      ],
      "execution_count": null,
      "outputs": [
        {
          "output_type": "execute_result",
          "data": {
            "text/plain": [
              "<matplotlib.axes._subplots.AxesSubplot at 0x7f8de0625450>"
            ]
          },
          "metadata": {
            "tags": []
          },
          "execution_count": 12
        },
        {
          "output_type": "display_data",
          "data": {
            "image/png": "[encoded data removed]",
            "text/plain": [
              "<Figure size 432x288 with 1 Axes>"
            ]
          },
          "metadata": {
            "tags": [],
            "needs_background": "light"
          }
        }
      ]
    },
    {
      "cell_type": "code",
      "metadata": {
        "colab": {
          "base_uri": "https://localhost:8080/",
          "height": 301
        },
        "id": "xEki6BKTdMrd",
        "outputId": "85865ef7-64c0-49c2-9b80-98175c416721"
      },
      "source": [
        "sns.boxplot(x = dataset['total_fer'])"
      ],
      "execution_count": null,
      "outputs": [
        {
          "output_type": "execute_result",
          "data": {
            "text/plain": [
              "<matplotlib.axes._subplots.AxesSubplot at 0x7f8de0694190>"
            ]
          },
          "metadata": {
            "tags": []
          },
          "execution_count": 13
        },
        {
          "output_type": "display_data",
          "data": {
            "image/png": "[encoded data removed]",
            "text/plain": [
              "<Figure size 432x288 with 1 Axes>"
            ]
          },
          "metadata": {
            "tags": [],
            "needs_background": "light"
          }
        }
      ]
    },
    {
      "cell_type": "code",
      "metadata": {
        "colab": {
          "base_uri": "https://localhost:8080/",
          "height": 598
        },
        "id": "YcIn2WfkdftO",
        "outputId": "b1956162-96b1-499d-dfbe-471a32baf807"
      },
      "source": [
        "#Heat maps here are used to find the relationship between fratures\n",
        "#Features with overly high correlation should be dropped\n",
        "#Likely features such as GDP and average earning to be related\n",
        "\n",
        "# Finding the relations between the variables\n",
        "# No correlation is unusually strong, all lined down the middle\n",
        "# Almost all correlation index below 0.75\n",
        "# From chart highest correlations are between total_fer and child_mort\n",
        "# also gdp and income\n",
        "# possibly best to remove features gdp and or income due to such a high correlation\n",
        "# data will be run again without these features to explore change in clustering\n",
        "plt.figure(figsize=(20,10))\n",
        "c = dataset.corr()\n",
        "feature_correlation = sns.heatmap(c)\n"
      ],
      "execution_count": null,
      "outputs": [
        {
          "output_type": "display_data",
          "data": {
            "image/png": "[encoded data removed]",
            "text/plain": [
              "<Figure size 1440x720 with 2 Axes>"
            ]
          },
          "metadata": {
            "tags": [],
            "needs_background": "light"
          }
        }
      ]
    },
    {
      "cell_type": "code",
      "metadata": {
        "colab": {
          "base_uri": "https://localhost:8080/",
          "height": 408
        },
        "id": "UoyX_7zouhbp",
        "outputId": "186d1377-f415-497d-88ad-9478fb4278b7"
      },
      "source": [
        "# GDP and income has relatively high correlation\n",
        "# child_mort and total_fert has relatively high correlation\n",
        "# important to drop these columns for reliability of model\n",
        "new_data = dataset.drop(['income', 'child_mort'], axis = 1)\n",
        "new_data"
      ],
      "execution_count": null,
      "outputs": [
        {
          "output_type": "execute_result",
          "data": {
            "text/html": [
              "<div>\n",
              "<style scoped>\n",
              "    .dataframe tbody tr th:only-of-type {\n",
              "        vertical-align: middle;\n",
              "    }\n",
              "\n",
              "    .dataframe tbody tr th {\n",
              "        vertical-align: top;\n",
              "    }\n",
              "\n",
              "    .dataframe thead th {\n",
              "        text-align: right;\n",
              "    }\n",
              "</style>\n",
              "<table border=\"1\" class=\"dataframe\">\n",
              "  <thead>\n",
              "    <tr style=\"text-align: right;\">\n",
              "      <th></th>\n",
              "      <th>country</th>\n",
              "      <th>exports</th>\n",
              "      <th>health</th>\n",
              "      <th>imports</th>\n",
              "      <th>inflation</th>\n",
              "      <th>life_expec</th>\n",
              "      <th>total_fer</th>\n",
              "      <th>gdpp</th>\n",
              "    </tr>\n",
              "  </thead>\n",
              "  <tbody>\n",
              "    <tr>\n",
              "      <th>0</th>\n",
              "      <td>Afghanistan</td>\n",
              "      <td>10.0</td>\n",
              "      <td>7.58</td>\n",
              "      <td>44.9</td>\n",
              "      <td>9.44</td>\n",
              "      <td>56.2</td>\n",
              "      <td>5.82</td>\n",
              "      <td>553</td>\n",
              "    </tr>\n",
              "    <tr>\n",
              "      <th>1</th>\n",
              "      <td>Albania</td>\n",
              "      <td>28.0</td>\n",
              "      <td>6.55</td>\n",
              "      <td>48.6</td>\n",
              "      <td>4.49</td>\n",
              "      <td>76.3</td>\n",
              "      <td>1.65</td>\n",
              "      <td>4090</td>\n",
              "    </tr>\n",
              "    <tr>\n",
              "      <th>2</th>\n",
              "      <td>Algeria</td>\n",
              "      <td>38.4</td>\n",
              "      <td>4.17</td>\n",
              "      <td>31.4</td>\n",
              "      <td>16.10</td>\n",
              "      <td>76.5</td>\n",
              "      <td>2.89</td>\n",
              "      <td>4460</td>\n",
              "    </tr>\n",
              "    <tr>\n",
              "      <th>3</th>\n",
              "      <td>Angola</td>\n",
              "      <td>62.3</td>\n",
              "      <td>2.85</td>\n",
              "      <td>42.9</td>\n",
              "      <td>22.40</td>\n",
              "      <td>60.1</td>\n",
              "      <td>6.16</td>\n",
              "      <td>3530</td>\n",
              "    </tr>\n",
              "    <tr>\n",
              "      <th>4</th>\n",
              "      <td>Antigua and Barbuda</td>\n",
              "      <td>45.5</td>\n",
              "      <td>6.03</td>\n",
              "      <td>58.9</td>\n",
              "      <td>1.44</td>\n",
              "      <td>76.8</td>\n",
              "      <td>2.13</td>\n",
              "      <td>12200</td>\n",
              "    </tr>\n",
              "    <tr>\n",
              "      <th>...</th>\n",
              "      <td>...</td>\n",
              "      <td>...</td>\n",
              "      <td>...</td>\n",
              "      <td>...</td>\n",
              "      <td>...</td>\n",
              "      <td>...</td>\n",
              "      <td>...</td>\n",
              "      <td>...</td>\n",
              "    </tr>\n",
              "    <tr>\n",
              "      <th>162</th>\n",
              "      <td>Vanuatu</td>\n",
              "      <td>46.6</td>\n",
              "      <td>5.25</td>\n",
              "      <td>52.7</td>\n",
              "      <td>2.62</td>\n",
              "      <td>63.0</td>\n",
              "      <td>3.50</td>\n",
              "      <td>2970</td>\n",
              "    </tr>\n",
              "    <tr>\n",
              "      <th>163</th>\n",
              "      <td>Venezuela</td>\n",
              "      <td>28.5</td>\n",
              "      <td>4.91</td>\n",
              "      <td>17.6</td>\n",
              "      <td>45.90</td>\n",
              "      <td>75.4</td>\n",
              "      <td>2.47</td>\n",
              "      <td>13500</td>\n",
              "    </tr>\n",
              "    <tr>\n",
              "      <th>164</th>\n",
              "      <td>Vietnam</td>\n",
              "      <td>72.0</td>\n",
              "      <td>6.84</td>\n",
              "      <td>80.2</td>\n",
              "      <td>12.10</td>\n",
              "      <td>73.1</td>\n",
              "      <td>1.95</td>\n",
              "      <td>1310</td>\n",
              "    </tr>\n",
              "    <tr>\n",
              "      <th>165</th>\n",
              "      <td>Yemen</td>\n",
              "      <td>30.0</td>\n",
              "      <td>5.18</td>\n",
              "      <td>34.4</td>\n",
              "      <td>23.60</td>\n",
              "      <td>67.5</td>\n",
              "      <td>4.67</td>\n",
              "      <td>1310</td>\n",
              "    </tr>\n",
              "    <tr>\n",
              "      <th>166</th>\n",
              "      <td>Zambia</td>\n",
              "      <td>37.0</td>\n",
              "      <td>5.89</td>\n",
              "      <td>30.9</td>\n",
              "      <td>14.00</td>\n",
              "      <td>52.0</td>\n",
              "      <td>5.40</td>\n",
              "      <td>1460</td>\n",
              "    </tr>\n",
              "  </tbody>\n",
              "</table>\n",
              "<p>167 rows × 8 columns</p>\n",
              "</div>"
            ],
            "text/plain": [
              "                 country  exports  health  ...  life_expec  total_fer   gdpp\n",
              "0            Afghanistan     10.0    7.58  ...        56.2       5.82    553\n",
              "1                Albania     28.0    6.55  ...        76.3       1.65   4090\n",
              "2                Algeria     38.4    4.17  ...        76.5       2.89   4460\n",
              "3                 Angola     62.3    2.85  ...        60.1       6.16   3530\n",
              "4    Antigua and Barbuda     45.5    6.03  ...        76.8       2.13  12200\n",
              "..                   ...      ...     ...  ...         ...        ...    ...\n",
              "162              Vanuatu     46.6    5.25  ...        63.0       3.50   2970\n",
              "163            Venezuela     28.5    4.91  ...        75.4       2.47  13500\n",
              "164              Vietnam     72.0    6.84  ...        73.1       1.95   1310\n",
              "165                Yemen     30.0    5.18  ...        67.5       4.67   1310\n",
              "166               Zambia     37.0    5.89  ...        52.0       5.40   1460\n",
              "\n",
              "[167 rows x 8 columns]"
            ]
          },
          "metadata": {
            "tags": []
          },
          "execution_count": 15
        }
      ]
    },
    {
      "cell_type": "code",
      "metadata": {
        "id": "w7AwA-RCwpSu"
      },
      "source": [
        "#SELECTING FEATURES USED FOR CLUSTER MODEL\n",
        "\n",
        "X = new_data.iloc[:, [1, 2, 3, 4, 5, 6, 7 ]].values #Select column index 1 and 7\n",
        "#Excludes column where countries are listed\n",
        "#It has no impact on whatever independant variable that will be created \n",
        "#Goal is to Identifies clusters and creates new dependant variable where the values will be clusters \n"
      ],
      "execution_count": null,
      "outputs": []
    },
    {
      "cell_type": "code",
      "metadata": {
        "colab": {
          "base_uri": "https://localhost:8080/",
          "height": 301
        },
        "id": "Lgu3ZVgnzXZ8",
        "outputId": "2948228c-bd27-43e9-e284-fad8b93aacea"
      },
      "source": [
        "#USING ELBOW METHOD TO FIND BEST NO. OF CLUSTERS\n",
        "#optimum change in WCSS is no longer significant\n",
        "#Scikit learn library already runs this \n",
        "\n",
        "from sklearn.cluster import KMeans\n",
        "#for loop to run clusters 1-10 to see what is best\n",
        "#Looking for best \"within cluster sum of squares\"\n",
        "WCSS = [] #make empty list for wcss val\n",
        "for i in range(1, 11): \n",
        "  #want to include 10 but go up to 11\n",
        "  kmeans = KMeans(n_clusters = i, init = 'k-means++', random_state = 42 )\n",
        "  #avoids random initialisation trap with ++\n",
        "  #Then train K means with i number of clusters\n",
        "  kmeans.fit(X) #fit X data into kmeans, only need data of the features no labelling \n",
        "  WCSS.append(kmeans.inertia_) #append new value into this list, call attribute of kmeans object\n",
        "  #get WCSS value\n",
        "\n",
        "plt.plot(range(1, 11), WCSS)\n",
        "plt.title('Findning No. of clusters via elbow graph')\n",
        "plt.xlabel('No. of clusters')\n",
        "plt.ylabel('WCSS')\n",
        "plt.show()\n",
        "\n",
        "#WCSS decreases its descent at  hence use 3 clusters\n",
        "#Optimal number is 3"
      ],
      "execution_count": null,
      "outputs": [
        {
          "output_type": "display_data",
          "data": {
            "image/png": "[encoded data removed]",
            "text/plain": [
              "<Figure size 432x288 with 1 Axes>"
            ]
          },
          "metadata": {
            "tags": [],
            "needs_background": "light"
          }
        }
      ]
    },
    {
      "cell_type": "code",
      "metadata": {
        "colab": {
          "base_uri": "https://localhost:8080/"
        },
        "id": "-ADRI8HX1E1T",
        "outputId": "fafdbac9-9804-4c61-b061-d039dade9938"
      },
      "source": [
        "#TRAINING THE KMEANS MODEL ON DATASET USING OPTIMAL NUMBER OF CLUSTERS\n",
        "\n",
        "kmeans = KMeans(n_clusters = 3, init = 'k-means++', random_state = 42 )\n",
        "ypredict_kmeans = kmeans.fit_predict(X)\n",
        "#build dependant variable where the values are the clusters\n",
        "print(ypredict_kmeans)\n",
        "#Which cluster each country belongs to listed below\n",
        "#Noticable that countries in cluster '1' have GDP ranking 12000 or below\n",
        "#Countries in cluster '0' have GDPs ranking higher than most countries\n",
        "#Highest GDP ranked countries are in cluster '2'\n",
        "#The same pattern is observable in regards to life exectancy\n",
        "#only countrues in cluster 0 and 2 usually have life expectancy above 80"
      ],
      "execution_count": null,
      "outputs": [
        {
          "output_type": "stream",
          "text": [
            "[1 1 1 1 1 1 1 0 0 1 0 1 1 1 1 0 1 1 1 1 1 1 1 0 1 1 1 1 1 0 1 1 1 1 1 1 1\n",
            " 1 1 1 1 1 0 1 0 1 1 1 1 1 1 1 1 0 0 1 1 1 0 1 0 1 1 1 1 1 1 1 0 1 1 1 1 0\n",
            " 0 0 1 0 1 1 1 1 0 1 1 1 1 1 1 1 1 2 1 1 1 1 1 1 1 1 1 1 1 1 1 1 1 1 1 1 0\n",
            " 0 1 1 2 1 1 1 1 1 1 1 1 2 1 1 1 1 1 1 1 1 1 0 1 0 1 1 1 0 1 1 1 1 0 2 1 1\n",
            " 1 1 1 1 1 1 1 1 1 0 0 0 1 1 1 1 1 1 1]\n"
          ],
          "name": "stdout"
        }
      ]
    },
    {
      "cell_type": "code",
      "metadata": {
        "colab": {
          "base_uri": "https://localhost:8080/",
          "height": 301
        },
        "id": "3Ue7i72X38Sv",
        "outputId": "ed4aac4d-802d-49a8-90bb-1617a60e0067"
      },
      "source": [
        "#VISIALISE THE CLUSTERS ON A GRAPH AND THEIR CENTRIODS\n",
        "\n",
        "plt.scatter(\n",
        "    X[ypredict_kmeans == 0,5], # Cluster 0, index 0 of X\n",
        "    X[ypredict_kmeans == 0,6], # Cluster 0, index 1 of X\n",
        "    s = 100, c = 'red', label = 'cluster 1') \n",
        "\n",
        "plt.scatter(\n",
        "    X[ypredict_kmeans == 1,5], # Cluster 1, index 0 of X\n",
        "    X[ypredict_kmeans == 1,6], # Cluster 1, index 1 of X\n",
        "    s = 100, c = 'blue', label = 'cluster 2') \n",
        "\n",
        "plt.scatter(\n",
        "    X[ypredict_kmeans == 2,5], # Cluster 2, index 0 of X\n",
        "    X[ypredict_kmeans == 2,6], # Cluster 2, index 1 of X\n",
        "    s = 100, c = 'green', label = 'cluster 3') \n",
        "\n",
        "#plt.scatter(\n",
        "    #X[ypredict_kmeans == 3,5], # Cluster 3, index 0 of X\n",
        "    #X[ypredict_kmeans == 3,6], # Cluster 3, index 1 of X\n",
        "    #s = 100, c = 'yellow', label = 'cluster 4') \n",
        "\n",
        "\n",
        "#plotting the centriods\n",
        "plt.scatter(kmeans.cluster_centers_[:, 5], \n",
        "            kmeans.cluster_centers_[:, 6], \n",
        "            s = 300, c = 'orange', label = 'centriods')\n",
        "\n",
        "\n",
        "\n",
        "\n",
        "#Natural bias as I understand that countries with very high GDP have lower birthrate\n",
        "#This finding/trend could be verified by using another clustering model\n",
        "#alternative look at trend in the data\n",
        "\n",
        "plt.title('Clusters of countries')\n",
        "plt.xlabel('total_fer')\n",
        "plt.ylabel('GDP')\n",
        "plt.show()"
      ],
      "execution_count": null,
      "outputs": [
        {
          "output_type": "display_data",
          "data": {
            "image/png": "[encoded data removed]",
            "text/plain": [
              "<Figure size 432x288 with 1 Axes>"
            ]
          },
          "metadata": {
            "tags": [],
            "needs_background": "light"
          }
        }
      ]
    },
    {
      "cell_type": "code",
      "metadata": {
        "id": "FdbfWM5uTn6j"
      },
      "source": [
        "#Pickling the K means object\n",
        "#filename = pickle_path+'\\\\'+'_ypredict_kmeans.sav'\n",
        "import pandas\n",
        "from sklearn import model_selection\n",
        "import pickle\n"
      ],
      "execution_count": null,
      "outputs": []
    },
    {
      "cell_type": "code",
      "metadata": {
        "colab": {
          "base_uri": "https://localhost:8080/"
        },
        "id": "d9Yr7J64b0QR",
        "outputId": "9f98e94e-78d1-4d48-8c60-4142a84e2fb7"
      },
      "source": [
        "#Save K-Means model and use for future prediction\n",
        "\n",
        "from sklearn.cluster import KMeans\n",
        "from sklearn.externals import joblib\n",
        "kmeans.fit(X)\n",
        "joblib.dump(kmeans, 'kmeans.pkl')\n",
        "kmeans_loaded = joblib.load('kmeans.pkl')\n",
        "\n",
        "kmeans_loaded\n",
        "\n",
        "#predict with new data\n",
        "\n",
        "kmeans_loaded.predict(X)"
      ],
      "execution_count": null,
      "outputs": [
        {
          "output_type": "execute_result",
          "data": {
            "text/plain": [
              "array([1, 1, 1, 1, 1, 1, 1, 0, 0, 1, 0, 1, 1, 1, 1, 0, 1, 1, 1, 1, 1, 1,\n",
              "       1, 0, 1, 1, 1, 1, 1, 0, 1, 1, 1, 1, 1, 1, 1, 1, 1, 1, 1, 1, 0, 1,\n",
              "       0, 1, 1, 1, 1, 1, 1, 1, 1, 0, 0, 1, 1, 1, 0, 1, 0, 1, 1, 1, 1, 1,\n",
              "       1, 1, 0, 1, 1, 1, 1, 0, 0, 0, 1, 0, 1, 1, 1, 1, 0, 1, 1, 1, 1, 1,\n",
              "       1, 1, 1, 2, 1, 1, 1, 1, 1, 1, 1, 1, 1, 1, 1, 1, 1, 1, 1, 1, 1, 1,\n",
              "       0, 0, 1, 1, 2, 1, 1, 1, 1, 1, 1, 1, 1, 2, 1, 1, 1, 1, 1, 1, 1, 1,\n",
              "       1, 0, 1, 0, 1, 1, 1, 0, 1, 1, 1, 1, 0, 2, 1, 1, 1, 1, 1, 1, 1, 1,\n",
              "       1, 1, 1, 0, 0, 0, 1, 1, 1, 1, 1, 1, 1], dtype=int32)"
            ]
          },
          "metadata": {
            "tags": []
          },
          "execution_count": 25
        }
      ]
    },
    {
      "cell_type": "code",
      "metadata": {
        "colab": {
          "base_uri": "https://localhost:8080/"
        },
        "id": "KomyxF6NejpN",
        "outputId": "5e980dd0-dc4b-4003-e732-7f0c0b67aec0"
      },
      "source": [
        "model = kmeans\n",
        "model.fit(X)\n",
        "# save the model to disk\n",
        "filename = 'finalized_model.sav'\n",
        "pickle.dump(model, open(filename, 'wb'))\n",
        " \n",
        " \n",
        "# load the model from disk\n",
        "loaded_model = pickle.load(open(filename, 'rb'))\n",
        "result = loaded_model.predict(X)\n",
        "print(result)"
      ],
      "execution_count": null,
      "outputs": [
        {
          "output_type": "stream",
          "text": [
            "[1 1 1 1 1 1 1 0 0 1 0 1 1 1 1 0 1 1 1 1 1 1 1 0 1 1 1 1 1 0 1 1 1 1 1 1 1\n",
            " 1 1 1 1 1 0 1 0 1 1 1 1 1 1 1 1 0 0 1 1 1 0 1 0 1 1 1 1 1 1 1 0 1 1 1 1 0\n",
            " 0 0 1 0 1 1 1 1 0 1 1 1 1 1 1 1 1 2 1 1 1 1 1 1 1 1 1 1 1 1 1 1 1 1 1 1 0\n",
            " 0 1 1 2 1 1 1 1 1 1 1 1 2 1 1 1 1 1 1 1 1 1 0 1 0 1 1 1 0 1 1 1 1 0 2 1 1\n",
            " 1 1 1 1 1 1 1 1 1 0 0 0 1 1 1 1 1 1 1]\n"
          ],
          "name": "stdout"
        }
      ]
    },
    {
      "cell_type": "code",
      "metadata": {
        "id": "UOTefVBkfVKo"
      },
      "source": [
        ""
      ],
      "execution_count": null,
      "outputs": []
    }
  ]
}